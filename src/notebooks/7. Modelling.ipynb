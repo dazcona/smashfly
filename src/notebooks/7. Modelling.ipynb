{
 "cells": [
  {
   "cell_type": "markdown",
   "metadata": {},
   "source": [
    "# Modelling"
   ]
  },
  {
   "cell_type": "code",
   "execution_count": 1,
   "metadata": {},
   "outputs": [],
   "source": [
    "import os\n",
    "import pandas as pd\n",
    "import numpy as np\n",
    "from sklearn.model_selection import cross_val_score\n",
    "from sklearn.ensemble import RandomForestClassifier, GradientBoostingClassifier\n",
    "from sklearn.dummy import DummyClassifier\n",
    "from sklearn.svm import SVC\n",
    "from sklearn.linear_model import LogisticRegression\n",
    "from sklearn.metrics import classification_report, f1_score"
   ]
  },
  {
   "cell_type": "code",
   "execution_count": 2,
   "metadata": {},
   "outputs": [],
   "source": [
    "import matplotlib.pyplot as plt\n",
    "%matplotlib inline\n",
    "font = { 'family': 'DejaVu Sans', 'weight': 'bold', 'size': 20 }\n",
    "plt.rc('font', **font)"
   ]
  },
  {
   "cell_type": "code",
   "execution_count": 3,
   "metadata": {},
   "outputs": [],
   "source": [
    "data_path = '../../data/'"
   ]
  },
  {
   "cell_type": "code",
   "execution_count": 4,
   "metadata": {},
   "outputs": [],
   "source": [
    "X_train = np.load(os.path.join(data_path, 'X_train.npy'), allow_pickle=True)\n",
    "X_val = np.load(os.path.join(data_path, 'X_val.npy'), allow_pickle=True)\n",
    "y_train = np.load(os.path.join(data_path, 'y_train.npy'), allow_pickle=True)\n",
    "y_val = np.load(os.path.join(data_path, 'y_val.npy'), allow_pickle=True)"
   ]
  },
  {
   "cell_type": "code",
   "execution_count": 5,
   "metadata": {},
   "outputs": [
    {
     "data": {
      "text/plain": [
       "array([25.,  4.,  0.,  1.,  0.,  0.,  0.,  0.,  0.,  1.,  0.,  0.,  0.,\n",
       "        0.,  0.,  0.,  0.,  0.,  0.,  0.,  1.,  0.,  0.,  0.,  1.,  0.,\n",
       "        0.])"
      ]
     },
     "execution_count": 5,
     "metadata": {},
     "output_type": "execute_result"
    }
   ],
   "source": [
    "X_train[0]"
   ]
  },
  {
   "cell_type": "markdown",
   "metadata": {},
   "source": [
    "### Dummy Classifier"
   ]
  },
  {
   "cell_type": "code",
   "execution_count": 6,
   "metadata": {},
   "outputs": [],
   "source": [
    "dummy = DummyClassifier(random_state=42)"
   ]
  },
  {
   "cell_type": "code",
   "execution_count": 7,
   "metadata": {},
   "outputs": [
    {
     "data": {
      "text/plain": [
       "DummyClassifier(constant=None, random_state=42, strategy='stratified')"
      ]
     },
     "execution_count": 7,
     "metadata": {},
     "output_type": "execute_result"
    }
   ],
   "source": [
    "dummy.fit(X_train, y_train)"
   ]
  },
  {
   "cell_type": "code",
   "execution_count": 8,
   "metadata": {},
   "outputs": [
    {
     "data": {
      "text/plain": [
       "0.47785714285714287"
      ]
     },
     "execution_count": 8,
     "metadata": {},
     "output_type": "execute_result"
    }
   ],
   "source": [
    "dummy.score(X_val, y_val)"
   ]
  },
  {
   "cell_type": "code",
   "execution_count": 9,
   "metadata": {},
   "outputs": [
    {
     "data": {
      "text/plain": [
       "array([False,  True])"
      ]
     },
     "execution_count": 9,
     "metadata": {},
     "output_type": "execute_result"
    }
   ],
   "source": [
    "dummy.classes_"
   ]
  },
  {
   "cell_type": "code",
   "execution_count": 10,
   "metadata": {},
   "outputs": [],
   "source": [
    "y_pred_dummy = dummy.predict(X_val)"
   ]
  },
  {
   "cell_type": "code",
   "execution_count": 11,
   "metadata": {},
   "outputs": [
    {
     "data": {
      "text/plain": [
       "0.4826610049539986"
      ]
     },
     "execution_count": 11,
     "metadata": {},
     "output_type": "execute_result"
    }
   ],
   "source": [
    "f1_score(y_val, y_pred_dummy)"
   ]
  },
  {
   "cell_type": "code",
   "execution_count": 12,
   "metadata": {},
   "outputs": [
    {
     "name": "stdout",
     "output_type": "stream",
     "text": [
      "              precision    recall  f1-score   support\n",
      "\n",
      "       False       0.47      0.48      0.47       690\n",
      "        True       0.49      0.48      0.48       710\n",
      "\n",
      "    accuracy                           0.48      1400\n",
      "   macro avg       0.48      0.48      0.48      1400\n",
      "weighted avg       0.48      0.48      0.48      1400\n",
      "\n"
     ]
    }
   ],
   "source": [
    "print(classification_report(y_val, y_pred_dummy))"
   ]
  },
  {
   "cell_type": "markdown",
   "metadata": {},
   "source": [
    "### Random Forest"
   ]
  },
  {
   "cell_type": "code",
   "execution_count": 13,
   "metadata": {},
   "outputs": [],
   "source": [
    "model = RandomForestClassifier(n_estimators=10, random_state=42)"
   ]
  },
  {
   "cell_type": "code",
   "execution_count": 14,
   "metadata": {
    "scrolled": true
   },
   "outputs": [
    {
     "data": {
      "text/plain": [
       "RandomForestClassifier(bootstrap=True, class_weight=None, criterion='gini',\n",
       "                       max_depth=None, max_features='auto', max_leaf_nodes=None,\n",
       "                       min_impurity_decrease=0.0, min_impurity_split=None,\n",
       "                       min_samples_leaf=1, min_samples_split=2,\n",
       "                       min_weight_fraction_leaf=0.0, n_estimators=10,\n",
       "                       n_jobs=None, oob_score=False, random_state=42, verbose=0,\n",
       "                       warm_start=False)"
      ]
     },
     "execution_count": 14,
     "metadata": {},
     "output_type": "execute_result"
    }
   ],
   "source": [
    "model.fit(X_train, y_train)"
   ]
  },
  {
   "cell_type": "code",
   "execution_count": 15,
   "metadata": {},
   "outputs": [
    {
     "data": {
      "text/plain": [
       "0.49357142857142855"
      ]
     },
     "execution_count": 15,
     "metadata": {},
     "output_type": "execute_result"
    }
   ],
   "source": [
    "model.score(X_val, y_val)"
   ]
  },
  {
   "cell_type": "code",
   "execution_count": 16,
   "metadata": {},
   "outputs": [
    {
     "data": {
      "text/plain": [
       "array([False,  True])"
      ]
     },
     "execution_count": 16,
     "metadata": {},
     "output_type": "execute_result"
    }
   ],
   "source": [
    "model.classes_"
   ]
  },
  {
   "cell_type": "code",
   "execution_count": 17,
   "metadata": {},
   "outputs": [
    {
     "data": {
      "text/plain": [
       "DecisionTreeClassifier(class_weight=None, criterion='gini', max_depth=None,\n",
       "                       max_features=None, max_leaf_nodes=None,\n",
       "                       min_impurity_decrease=0.0, min_impurity_split=None,\n",
       "                       min_samples_leaf=1, min_samples_split=2,\n",
       "                       min_weight_fraction_leaf=0.0, presort=False,\n",
       "                       random_state=None, splitter='best')"
      ]
     },
     "execution_count": 17,
     "metadata": {},
     "output_type": "execute_result"
    }
   ],
   "source": [
    "model.base_estimator_"
   ]
  },
  {
   "cell_type": "code",
   "execution_count": 18,
   "metadata": {},
   "outputs": [],
   "source": [
    "y_pred = model.predict(X_val)"
   ]
  },
  {
   "cell_type": "code",
   "execution_count": 19,
   "metadata": {},
   "outputs": [
    {
     "data": {
      "text/plain": [
       "0.46970830216903514"
      ]
     },
     "execution_count": 19,
     "metadata": {},
     "output_type": "execute_result"
    }
   ],
   "source": [
    "f1_score(y_val, y_pred)"
   ]
  },
  {
   "cell_type": "code",
   "execution_count": 20,
   "metadata": {},
   "outputs": [
    {
     "name": "stdout",
     "output_type": "stream",
     "text": [
      "              precision    recall  f1-score   support\n",
      "\n",
      "       False       0.49      0.55      0.52       690\n",
      "        True       0.50      0.44      0.47       710\n",
      "\n",
      "    accuracy                           0.49      1400\n",
      "   macro avg       0.49      0.49      0.49      1400\n",
      "weighted avg       0.49      0.49      0.49      1400\n",
      "\n"
     ]
    }
   ],
   "source": [
    "print(classification_report(y_val, y_pred))"
   ]
  },
  {
   "cell_type": "code",
   "execution_count": 21,
   "metadata": {},
   "outputs": [],
   "source": [
    "importances = model.feature_importances_"
   ]
  },
  {
   "cell_type": "code",
   "execution_count": 22,
   "metadata": {},
   "outputs": [],
   "source": [
    "indices = np.argsort(importances)[::-1]"
   ]
  },
  {
   "cell_type": "code",
   "execution_count": 23,
   "metadata": {},
   "outputs": [],
   "source": [
    "with open('../../data/feature_names.txt') as f:\n",
    "    feature_names = [ line.strip() for line in f.readlines() ]"
   ]
  },
  {
   "cell_type": "code",
   "execution_count": 24,
   "metadata": {
    "scrolled": false
   },
   "outputs": [
    {
     "name": "stdout",
     "output_type": "stream",
     "text": [
      "Feature ranking:\n",
      "1. Feature Age [0] (0.339414)\n",
      "2. Feature GPA [1] (0.212854)\n",
      "3. Feature Race_Other [25] (0.025041)\n",
      "4. Feature Race_Latino [24] (0.024921)\n",
      "5. Feature Race_White [26] (0.024130)\n",
      "6. Feature Race_Asian [22] (0.023830)\n",
      "7. Feature Race_Black [23] (0.022593)\n",
      "8. Feature Gender_F [2] (0.021023)\n",
      "9. Feature Qualification_type_1 [5] (0.020085)\n",
      "10. Feature Qualification_type_2 [6] (0.019781)\n",
      "11. Feature Qualification_type_4 [8] (0.019534)\n",
      "12. Feature Gender_M [3] (0.018688)\n",
      "13. Feature Qualification_type_3 [7] (0.018119)\n",
      "14. Feature Job_Type_Human Resources [13] (0.017909)\n",
      "15. Feature Job_Type_Product Management [16] (0.017618)\n",
      "16. Feature Job_Type_Sales [18] (0.017540)\n",
      "17. Feature Job_Type_Accounting [10] (0.017198)\n",
      "18. Feature Job_Type_Research and Development [17] (0.016865)\n",
      "19. Feature Job_Type_Support [20] (0.016416)\n",
      "20. Feature Job_Type_Services [19] (0.016172)\n",
      "21. Feature Qualification_type_5 [9] (0.016143)\n",
      "22. Feature Job_Type_Legal [14] (0.015949)\n",
      "23. Feature Job_Type_Engineering [12] (0.015635)\n",
      "24. Feature Job_Type_Training [21] (0.015495)\n",
      "25. Feature Job_Type_Business Development [11] (0.013615)\n",
      "etc\n"
     ]
    }
   ],
   "source": [
    "# Print the feature ranking\n",
    "print(\"Feature ranking:\")\n",
    "for f in range(len(feature_names))[:25]:\n",
    "    print(\"%d. Feature %s [%d] (%f)\" % (f + 1, feature_names[indices[f]], indices[f], importances[indices[f]]))\n",
    "print('etc')"
   ]
  },
  {
   "cell_type": "code",
   "execution_count": 25,
   "metadata": {},
   "outputs": [
    {
     "data": {
      "image/png": "[encoded data removed]",
      "text/plain": [
       "<Figure size 1152x288 with 1 Axes>"
      ]
     },
     "metadata": {
      "needs_background": "light"
     },
     "output_type": "display_data"
    }
   ],
   "source": [
    "N = 10\n",
    "\n",
    "# Plot the feature importances of the forest\n",
    "plt.figure(figsize=(16, 4))\n",
    "plt.title(\"Top-{} Feature importances\".format(N))\n",
    "# plt.bar(range(len(feature_names)), importances[indices], color=\"b\", align=\"center\")\n",
    "plt.bar(range(N), importances[indices][:N], color=\"b\", align=\"center\")\n",
    "# plt.xticks(range(len(feature_names)), indices)\n",
    "plt.xticks(range(N), [ feature_names[index].replace('Qualification', 'Qualif.').replace('_', '\\n').replace(' ', '\\n') for index in indices[:N] ], fontsize=15)\n",
    "plt.xlim([-1, N])\n",
    "plt.savefig('../../figures/modelling_Random_Forest_Top_10_Feature_Importances.png', bbox_inches=\"tight\")\n",
    "plt.show()"
   ]
  },
  {
   "cell_type": "markdown",
   "metadata": {},
   "source": [
    "## Biased Data"
   ]
  },
  {
   "cell_type": "code",
   "execution_count": 26,
   "metadata": {},
   "outputs": [],
   "source": [
    "X_bias_train = np.load(os.path.join(data_path, 'X_bias_train.npy'), allow_pickle=True)\n",
    "X_bias_val = np.load(os.path.join(data_path, 'X_bias_val.npy'), allow_pickle=True)\n",
    "y_bias_train = np.load(os.path.join(data_path, 'y_bias_train.npy'), allow_pickle=True)\n",
    "y_bias_val = np.load(os.path.join(data_path, 'y_bias_val.npy'), allow_pickle=True)"
   ]
  },
  {
   "cell_type": "code",
   "execution_count": 27,
   "metadata": {},
   "outputs": [],
   "source": [
    "model = RandomForestClassifier(n_estimators=10, random_state=42)"
   ]
  },
  {
   "cell_type": "code",
   "execution_count": 28,
   "metadata": {
    "scrolled": true
   },
   "outputs": [
    {
     "data": {
      "text/plain": [
       "RandomForestClassifier(bootstrap=True, class_weight=None, criterion='gini',\n",
       "                       max_depth=None, max_features='auto', max_leaf_nodes=None,\n",
       "                       min_impurity_decrease=0.0, min_impurity_split=None,\n",
       "                       min_samples_leaf=1, min_samples_split=2,\n",
       "                       min_weight_fraction_leaf=0.0, n_estimators=10,\n",
       "                       n_jobs=None, oob_score=False, random_state=42, verbose=0,\n",
       "                       warm_start=False)"
      ]
     },
     "execution_count": 28,
     "metadata": {},
     "output_type": "execute_result"
    }
   ],
   "source": [
    "model.fit(X_bias_train, y_bias_train)"
   ]
  },
  {
   "cell_type": "code",
   "execution_count": 29,
   "metadata": {},
   "outputs": [
    {
     "data": {
      "text/plain": [
       "0.0"
      ]
     },
     "execution_count": 29,
     "metadata": {},
     "output_type": "execute_result"
    }
   ],
   "source": [
    "model.score(X_bias_val, y_bias_val)"
   ]
  },
  {
   "cell_type": "code",
   "execution_count": 30,
   "metadata": {},
   "outputs": [
    {
     "data": {
      "text/plain": [
       "array([False,  True])"
      ]
     },
     "execution_count": 30,
     "metadata": {},
     "output_type": "execute_result"
    }
   ],
   "source": [
    "model.classes_"
   ]
  },
  {
   "cell_type": "code",
   "execution_count": 31,
   "metadata": {},
   "outputs": [
    {
     "data": {
      "text/plain": [
       "DecisionTreeClassifier(class_weight=None, criterion='gini', max_depth=None,\n",
       "                       max_features=None, max_leaf_nodes=None,\n",
       "                       min_impurity_decrease=0.0, min_impurity_split=None,\n",
       "                       min_samples_leaf=1, min_samples_split=2,\n",
       "                       min_weight_fraction_leaf=0.0, presort=False,\n",
       "                       random_state=None, splitter='best')"
      ]
     },
     "execution_count": 31,
     "metadata": {},
     "output_type": "execute_result"
    }
   ],
   "source": [
    "model.base_estimator_"
   ]
  },
  {
   "cell_type": "code",
   "execution_count": 32,
   "metadata": {},
   "outputs": [],
   "source": [
    "y_bias_pred = model.predict(X_bias_val)"
   ]
  },
  {
   "cell_type": "code",
   "execution_count": 33,
   "metadata": {},
   "outputs": [
    {
     "data": {
      "text/plain": [
       "0.0"
      ]
     },
     "execution_count": 33,
     "metadata": {},
     "output_type": "execute_result"
    }
   ],
   "source": [
    "f1_score(y_bias_val, y_bias_pred)"
   ]
  },
  {
   "cell_type": "code",
   "execution_count": 34,
   "metadata": {},
   "outputs": [
    {
     "name": "stdout",
     "output_type": "stream",
     "text": [
      "              precision    recall  f1-score   support\n",
      "\n",
      "       False       0.00      0.00      0.00    1729.0\n",
      "        True       0.00      0.00      0.00    1788.0\n",
      "\n",
      "    accuracy                           0.00    3517.0\n",
      "   macro avg       0.00      0.00      0.00    3517.0\n",
      "weighted avg       0.00      0.00      0.00    3517.0\n",
      "\n"
     ]
    }
   ],
   "source": [
    "print(classification_report(y_bias_val, y_bias_pred))"
   ]
  },
  {
   "cell_type": "code",
   "execution_count": 35,
   "metadata": {},
   "outputs": [],
   "source": [
    "importances = model.feature_importances_"
   ]
  },
  {
   "cell_type": "code",
   "execution_count": 36,
   "metadata": {},
   "outputs": [],
   "source": [
    "indices = np.argsort(importances)[::-1]"
   ]
  },
  {
   "cell_type": "code",
   "execution_count": 37,
   "metadata": {
    "scrolled": false
   },
   "outputs": [
    {
     "name": "stdout",
     "output_type": "stream",
     "text": [
      "Feature ranking:\n",
      "1. Feature Gender_F [2] (0.523014)\n",
      "2. Feature Gender_M [3] (0.462469)\n",
      "3. Feature Age [0] (0.003129)\n",
      "4. Feature GPA [1] (0.003078)\n",
      "5. Feature Job_Type_Training [21] (0.000920)\n",
      "6. Feature Qualification_type_1 [5] (0.000870)\n",
      "7. Feature Qualification_type_4 [8] (0.000719)\n",
      "8. Feature Gender_X [4] (0.000682)\n",
      "9. Feature Qualification_type_2 [6] (0.000560)\n",
      "10. Feature Job_Type_Business Development [11] (0.000548)\n",
      "11. Feature Job_Type_Marketing [15] (0.000499)\n",
      "12. Feature Race_White [26] (0.000487)\n",
      "13. Feature Qualification_type_5 [9] (0.000455)\n",
      "14. Feature Job_Type_Legal [14] (0.000444)\n",
      "15. Feature Race_Latino [24] (0.000357)\n",
      "16. Feature Qualification_type_3 [7] (0.000275)\n",
      "17. Feature Race_Black [23] (0.000226)\n",
      "18. Feature Job_Type_Research and Development [17] (0.000211)\n",
      "19. Feature Race_Other [25] (0.000187)\n",
      "20. Feature Job_Type_Services [19] (0.000181)\n",
      "21. Feature Race_Asian [22] (0.000176)\n",
      "22. Feature Job_Type_Product Management [16] (0.000146)\n",
      "23. Feature Job_Type_Accounting [10] (0.000133)\n",
      "24. Feature Job_Type_Sales [18] (0.000123)\n",
      "25. Feature Job_Type_Support [20] (0.000047)\n",
      "etc\n"
     ]
    }
   ],
   "source": [
    "# Print the feature ranking\n",
    "print(\"Feature ranking:\")\n",
    "for f in range(len(feature_names))[:25]:\n",
    "    print(\"%d. Feature %s [%d] (%f)\" % (f + 1, feature_names[indices[f]], indices[f], importances[indices[f]]))\n",
    "print('etc')"
   ]
  },
  {
   "cell_type": "code",
   "execution_count": 38,
   "metadata": {},
   "outputs": [
    {
     "data": {
      "image/png": "[encoded data removed]",
      "text/plain": [
       "<Figure size 1152x288 with 1 Axes>"
      ]
     },
     "metadata": {
      "needs_background": "light"
     },
     "output_type": "display_data"
    }
   ],
   "source": [
    "N = 10\n",
    "\n",
    "# Plot the feature importances of the forest\n",
    "plt.figure(figsize=(16, 4))\n",
    "plt.title(\"Top-{} Feature importances\".format(N))\n",
    "# plt.bar(range(len(feature_names)), importances[indices], color=\"b\", align=\"center\")\n",
    "plt.bar(range(N), importances[indices][:N], color=\"b\", align=\"center\")\n",
    "# plt.xticks(range(len(feature_names)), indices)\n",
    "plt.xticks(range(N), [ feature_names[index].replace('Qualification', 'Qualif.').replace('_', '\\n').replace(' ', '\\n') for index in indices[:N] ],  fontsize=15)\n",
    "plt.xlim([-1, N])\n",
    "plt.savefig('../../figures/modelling_Random_Forest_Top_10_Feature_Importances_Bias_Data.png', bbox_inches=\"tight\")\n",
    "plt.show()"
   ]
  },
  {
   "cell_type": "code",
   "execution_count": null,
   "metadata": {},
   "outputs": [],
   "source": []
  }
 ],
 "metadata": {
  "kernelspec": {
   "display_name": "Python 3",
   "language": "python",
   "name": "python3"
  },
  "language_info": {
   "codemirror_mode": {
    "name": "ipython",
    "version": 3
   },
   "file_extension": ".py",
   "mimetype": "text/x-python",
   "name": "python",
   "nbconvert_exporter": "python",
   "pygments_lexer": "ipython3",
   "version": "3.7.4"
  }
 },
 "nbformat": 4,
 "nbformat_minor": 2
}
