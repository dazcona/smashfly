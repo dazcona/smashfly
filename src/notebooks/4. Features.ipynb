{
 "cells": [
  {
   "cell_type": "markdown",
   "metadata": {},
   "source": [
    "# Features"
   ]
  },
  {
   "cell_type": "code",
   "execution_count": 1,
   "metadata": {},
   "outputs": [],
   "source": [
    "import os\n",
    "import pandas as pd\n",
    "import numpy as np\n",
    "import matplotlib.pyplot as plt"
   ]
  },
  {
   "cell_type": "code",
   "execution_count": 2,
   "metadata": {},
   "outputs": [],
   "source": [
    "data_path = '../../data/'"
   ]
  },
  {
   "cell_type": "markdown",
   "metadata": {},
   "source": [
    "## Read data"
   ]
  },
  {
   "cell_type": "code",
   "execution_count": 3,
   "metadata": {},
   "outputs": [],
   "source": [
    "df = pd.read_csv(os.path.join(data_path, 'SF_Datathon_Data.csv'), index_col='id')"
   ]
  },
  {
   "cell_type": "code",
   "execution_count": 4,
   "metadata": {},
   "outputs": [
    {
     "data": {
      "text/html": [
       "<div>\n",
       "<style scoped>\n",
       "    .dataframe tbody tr th:only-of-type {\n",
       "        vertical-align: middle;\n",
       "    }\n",
       "\n",
       "    .dataframe tbody tr th {\n",
       "        vertical-align: top;\n",
       "    }\n",
       "\n",
       "    .dataframe thead th {\n",
       "        text-align: right;\n",
       "    }\n",
       "</style>\n",
       "<table border=\"1\" class=\"dataframe\">\n",
       "  <thead>\n",
       "    <tr style=\"text-align: right;\">\n",
       "      <th></th>\n",
       "      <th>Name</th>\n",
       "      <th>Age</th>\n",
       "      <th>Gender</th>\n",
       "      <th>Qualification_type</th>\n",
       "      <th>Job_Type</th>\n",
       "      <th>Race</th>\n",
       "      <th>GPA</th>\n",
       "      <th>Interviewed</th>\n",
       "    </tr>\n",
       "    <tr>\n",
       "      <th>id</th>\n",
       "      <th></th>\n",
       "      <th></th>\n",
       "      <th></th>\n",
       "      <th></th>\n",
       "      <th></th>\n",
       "      <th></th>\n",
       "      <th></th>\n",
       "      <th></th>\n",
       "    </tr>\n",
       "  </thead>\n",
       "  <tbody>\n",
       "    <tr>\n",
       "      <th>1</th>\n",
       "      <td>Jody Tree</td>\n",
       "      <td>29</td>\n",
       "      <td>M</td>\n",
       "      <td>3</td>\n",
       "      <td>Marketing</td>\n",
       "      <td>White</td>\n",
       "      <td>3.7</td>\n",
       "      <td>True</td>\n",
       "    </tr>\n",
       "    <tr>\n",
       "      <th>2</th>\n",
       "      <td>Rowan Adan</td>\n",
       "      <td>59</td>\n",
       "      <td>M</td>\n",
       "      <td>2</td>\n",
       "      <td>Marketing</td>\n",
       "      <td>Latino</td>\n",
       "      <td>1.0</td>\n",
       "      <td>False</td>\n",
       "    </tr>\n",
       "    <tr>\n",
       "      <th>3</th>\n",
       "      <td>Caryl MacCall</td>\n",
       "      <td>56</td>\n",
       "      <td>M</td>\n",
       "      <td>1</td>\n",
       "      <td>Training</td>\n",
       "      <td>Other</td>\n",
       "      <td>4.0</td>\n",
       "      <td>False</td>\n",
       "    </tr>\n",
       "    <tr>\n",
       "      <th>4</th>\n",
       "      <td>Gordy Wornham</td>\n",
       "      <td>51</td>\n",
       "      <td>M</td>\n",
       "      <td>2</td>\n",
       "      <td>Business Development</td>\n",
       "      <td>Black</td>\n",
       "      <td>3.0</td>\n",
       "      <td>False</td>\n",
       "    </tr>\n",
       "    <tr>\n",
       "      <th>5</th>\n",
       "      <td>Abraham Feldfisher</td>\n",
       "      <td>46</td>\n",
       "      <td>M</td>\n",
       "      <td>1</td>\n",
       "      <td>Support</td>\n",
       "      <td>Latino</td>\n",
       "      <td>1.0</td>\n",
       "      <td>True</td>\n",
       "    </tr>\n",
       "  </tbody>\n",
       "</table>\n",
       "</div>"
      ],
      "text/plain": [
       "                  Name  Age Gender  Qualification_type              Job_Type  \\\n",
       "id                                                                             \n",
       "1            Jody Tree   29      M                   3             Marketing   \n",
       "2           Rowan Adan   59      M                   2             Marketing   \n",
       "3        Caryl MacCall   56      M                   1              Training   \n",
       "4        Gordy Wornham   51      M                   2  Business Development   \n",
       "5   Abraham Feldfisher   46      M                   1               Support   \n",
       "\n",
       "      Race  GPA  Interviewed  \n",
       "id                            \n",
       "1    White  3.7         True  \n",
       "2   Latino  1.0        False  \n",
       "3    Other  4.0        False  \n",
       "4    Black  3.0        False  \n",
       "5   Latino  1.0         True  "
      ]
     },
     "execution_count": 4,
     "metadata": {},
     "output_type": "execute_result"
    }
   ],
   "source": [
    "df.head()"
   ]
  },
  {
   "cell_type": "code",
   "execution_count": 5,
   "metadata": {},
   "outputs": [
    {
     "data": {
      "text/plain": [
       "Index(['Name', 'Age', 'Gender', 'Qualification_type', 'Job_Type', 'Race',\n",
       "       'GPA', 'Interviewed'],\n",
       "      dtype='object')"
      ]
     },
     "execution_count": 5,
     "metadata": {},
     "output_type": "execute_result"
    }
   ],
   "source": [
    "df.columns"
   ]
  },
  {
   "cell_type": "code",
   "execution_count": 6,
   "metadata": {},
   "outputs": [
    {
     "data": {
      "text/plain": [
       "Name                   object\n",
       "Age                     int64\n",
       "Gender                 object\n",
       "Qualification_type      int64\n",
       "Job_Type               object\n",
       "Race                   object\n",
       "GPA                   float64\n",
       "Interviewed              bool\n",
       "dtype: object"
      ]
     },
     "execution_count": 6,
     "metadata": {},
     "output_type": "execute_result"
    }
   ],
   "source": [
    "df.dtypes"
   ]
  },
  {
   "cell_type": "code",
   "execution_count": 7,
   "metadata": {},
   "outputs": [],
   "source": [
    "numeric_cols = [\n",
    "    'Age',\n",
    "    'GPA',\n",
    "]"
   ]
  },
  {
   "cell_type": "code",
   "execution_count": 8,
   "metadata": {},
   "outputs": [],
   "source": [
    "categorical_cols = [\n",
    "    'Gender', \n",
    "    'Qualification_type', \n",
    "    'Job_Type', \n",
    "    'Race',\n",
    "]"
   ]
  },
  {
   "cell_type": "code",
   "execution_count": 9,
   "metadata": {},
   "outputs": [],
   "source": [
    "target_cols = [\n",
    "    'Interviewed'\n",
    "]"
   ]
  },
  {
   "cell_type": "code",
   "execution_count": 10,
   "metadata": {},
   "outputs": [],
   "source": [
    "df_features = pd.DataFrame()"
   ]
  },
  {
   "cell_type": "code",
   "execution_count": 11,
   "metadata": {},
   "outputs": [
    {
     "name": "stdout",
     "output_type": "stream",
     "text": [
      "Number: Age\n",
      "Number: GPA\n"
     ]
    }
   ],
   "source": [
    "# Numeric\n",
    "for col_name in numeric_cols:\n",
    "    \n",
    "    print('Number: {}'.format(col_name))\n",
    "    \n",
    "    df_features[col_name] = df[col_name]"
   ]
  },
  {
   "cell_type": "code",
   "execution_count": 12,
   "metadata": {},
   "outputs": [
    {
     "name": "stdout",
     "output_type": "stream",
     "text": [
      "Category: Gender\n",
      "Category: Qualification_type\n",
      "Category: Job_Type\n",
      "Category: Race\n"
     ]
    }
   ],
   "source": [
    "# Categories\n",
    "for col_name in categorical_cols:\n",
    "    \n",
    "    print('Category: {}'.format(col_name))\n",
    "        \n",
    "    ## One-hot encoding\n",
    "        \n",
    "    # Categories\n",
    "    df_categories = pd.get_dummies(df[col_name], prefix=col_name)\n",
    "\n",
    "    # Append to features\n",
    "    df_features = pd.concat([df_features, df_categories], axis=1)"
   ]
  },
  {
   "cell_type": "code",
   "execution_count": 13,
   "metadata": {},
   "outputs": [
    {
     "name": "stdout",
     "output_type": "stream",
     "text": [
      "Target: Interviewed\n"
     ]
    }
   ],
   "source": [
    "# Target\n",
    "for col_name in target_cols:\n",
    "    \n",
    "    print('Target: {}'.format(col_name))\n",
    "    \n",
    "    df_features[col_name] = df[col_name]"
   ]
  },
  {
   "cell_type": "code",
   "execution_count": 14,
   "metadata": {},
   "outputs": [
    {
     "data": {
      "text/plain": [
       "28"
      ]
     },
     "execution_count": 14,
     "metadata": {},
     "output_type": "execute_result"
    }
   ],
   "source": [
    "len(df_features.columns)"
   ]
  },
  {
   "cell_type": "code",
   "execution_count": 15,
   "metadata": {},
   "outputs": [
    {
     "data": {
      "text/plain": [
       "['Age',\n",
       " 'GPA',\n",
       " 'Gender_F',\n",
       " 'Gender_M',\n",
       " 'Gender_X',\n",
       " 'Qualification_type_1',\n",
       " 'Qualification_type_2',\n",
       " 'Qualification_type_3',\n",
       " 'Qualification_type_4',\n",
       " 'Qualification_type_5',\n",
       " 'Job_Type_Accounting',\n",
       " 'Job_Type_Business Development',\n",
       " 'Job_Type_Engineering',\n",
       " 'Job_Type_Human Resources',\n",
       " 'Job_Type_Legal',\n",
       " 'Job_Type_Marketing',\n",
       " 'Job_Type_Product Management',\n",
       " 'Job_Type_Research and Development',\n",
       " 'Job_Type_Sales',\n",
       " 'Job_Type_Services',\n",
       " 'Job_Type_Support',\n",
       " 'Job_Type_Training',\n",
       " 'Race_Asian',\n",
       " 'Race_Black',\n",
       " 'Race_Latino',\n",
       " 'Race_Other',\n",
       " 'Race_White',\n",
       " 'Interviewed']"
      ]
     },
     "execution_count": 15,
     "metadata": {},
     "output_type": "execute_result"
    }
   ],
   "source": [
    "list(df_features.columns)"
   ]
  },
  {
   "cell_type": "code",
   "execution_count": 16,
   "metadata": {},
   "outputs": [
    {
     "data": {
      "text/html": [
       "<div>\n",
       "<style scoped>\n",
       "    .dataframe tbody tr th:only-of-type {\n",
       "        vertical-align: middle;\n",
       "    }\n",
       "\n",
       "    .dataframe tbody tr th {\n",
       "        vertical-align: top;\n",
       "    }\n",
       "\n",
       "    .dataframe thead th {\n",
       "        text-align: right;\n",
       "    }\n",
       "</style>\n",
       "<table border=\"1\" class=\"dataframe\">\n",
       "  <thead>\n",
       "    <tr style=\"text-align: right;\">\n",
       "      <th></th>\n",
       "      <th>Age</th>\n",
       "      <th>GPA</th>\n",
       "      <th>Gender_F</th>\n",
       "      <th>Gender_M</th>\n",
       "      <th>Gender_X</th>\n",
       "      <th>Qualification_type_1</th>\n",
       "      <th>Qualification_type_2</th>\n",
       "      <th>Qualification_type_3</th>\n",
       "      <th>Qualification_type_4</th>\n",
       "      <th>Qualification_type_5</th>\n",
       "      <th>...</th>\n",
       "      <th>Job_Type_Sales</th>\n",
       "      <th>Job_Type_Services</th>\n",
       "      <th>Job_Type_Support</th>\n",
       "      <th>Job_Type_Training</th>\n",
       "      <th>Race_Asian</th>\n",
       "      <th>Race_Black</th>\n",
       "      <th>Race_Latino</th>\n",
       "      <th>Race_Other</th>\n",
       "      <th>Race_White</th>\n",
       "      <th>Interviewed</th>\n",
       "    </tr>\n",
       "    <tr>\n",
       "      <th>id</th>\n",
       "      <th></th>\n",
       "      <th></th>\n",
       "      <th></th>\n",
       "      <th></th>\n",
       "      <th></th>\n",
       "      <th></th>\n",
       "      <th></th>\n",
       "      <th></th>\n",
       "      <th></th>\n",
       "      <th></th>\n",
       "      <th></th>\n",
       "      <th></th>\n",
       "      <th></th>\n",
       "      <th></th>\n",
       "      <th></th>\n",
       "      <th></th>\n",
       "      <th></th>\n",
       "      <th></th>\n",
       "      <th></th>\n",
       "      <th></th>\n",
       "      <th></th>\n",
       "    </tr>\n",
       "  </thead>\n",
       "  <tbody>\n",
       "    <tr>\n",
       "      <th>1</th>\n",
       "      <td>29</td>\n",
       "      <td>3.7</td>\n",
       "      <td>0</td>\n",
       "      <td>1</td>\n",
       "      <td>0</td>\n",
       "      <td>0</td>\n",
       "      <td>0</td>\n",
       "      <td>1</td>\n",
       "      <td>0</td>\n",
       "      <td>0</td>\n",
       "      <td>...</td>\n",
       "      <td>0</td>\n",
       "      <td>0</td>\n",
       "      <td>0</td>\n",
       "      <td>0</td>\n",
       "      <td>0</td>\n",
       "      <td>0</td>\n",
       "      <td>0</td>\n",
       "      <td>0</td>\n",
       "      <td>1</td>\n",
       "      <td>True</td>\n",
       "    </tr>\n",
       "    <tr>\n",
       "      <th>2</th>\n",
       "      <td>59</td>\n",
       "      <td>1.0</td>\n",
       "      <td>0</td>\n",
       "      <td>1</td>\n",
       "      <td>0</td>\n",
       "      <td>0</td>\n",
       "      <td>1</td>\n",
       "      <td>0</td>\n",
       "      <td>0</td>\n",
       "      <td>0</td>\n",
       "      <td>...</td>\n",
       "      <td>0</td>\n",
       "      <td>0</td>\n",
       "      <td>0</td>\n",
       "      <td>0</td>\n",
       "      <td>0</td>\n",
       "      <td>0</td>\n",
       "      <td>1</td>\n",
       "      <td>0</td>\n",
       "      <td>0</td>\n",
       "      <td>False</td>\n",
       "    </tr>\n",
       "    <tr>\n",
       "      <th>3</th>\n",
       "      <td>56</td>\n",
       "      <td>4.0</td>\n",
       "      <td>0</td>\n",
       "      <td>1</td>\n",
       "      <td>0</td>\n",
       "      <td>1</td>\n",
       "      <td>0</td>\n",
       "      <td>0</td>\n",
       "      <td>0</td>\n",
       "      <td>0</td>\n",
       "      <td>...</td>\n",
       "      <td>0</td>\n",
       "      <td>0</td>\n",
       "      <td>0</td>\n",
       "      <td>1</td>\n",
       "      <td>0</td>\n",
       "      <td>0</td>\n",
       "      <td>0</td>\n",
       "      <td>1</td>\n",
       "      <td>0</td>\n",
       "      <td>False</td>\n",
       "    </tr>\n",
       "    <tr>\n",
       "      <th>4</th>\n",
       "      <td>51</td>\n",
       "      <td>3.0</td>\n",
       "      <td>0</td>\n",
       "      <td>1</td>\n",
       "      <td>0</td>\n",
       "      <td>0</td>\n",
       "      <td>1</td>\n",
       "      <td>0</td>\n",
       "      <td>0</td>\n",
       "      <td>0</td>\n",
       "      <td>...</td>\n",
       "      <td>0</td>\n",
       "      <td>0</td>\n",
       "      <td>0</td>\n",
       "      <td>0</td>\n",
       "      <td>0</td>\n",
       "      <td>1</td>\n",
       "      <td>0</td>\n",
       "      <td>0</td>\n",
       "      <td>0</td>\n",
       "      <td>False</td>\n",
       "    </tr>\n",
       "    <tr>\n",
       "      <th>5</th>\n",
       "      <td>46</td>\n",
       "      <td>1.0</td>\n",
       "      <td>0</td>\n",
       "      <td>1</td>\n",
       "      <td>0</td>\n",
       "      <td>1</td>\n",
       "      <td>0</td>\n",
       "      <td>0</td>\n",
       "      <td>0</td>\n",
       "      <td>0</td>\n",
       "      <td>...</td>\n",
       "      <td>0</td>\n",
       "      <td>0</td>\n",
       "      <td>1</td>\n",
       "      <td>0</td>\n",
       "      <td>0</td>\n",
       "      <td>0</td>\n",
       "      <td>1</td>\n",
       "      <td>0</td>\n",
       "      <td>0</td>\n",
       "      <td>True</td>\n",
       "    </tr>\n",
       "  </tbody>\n",
       "</table>\n",
       "<p>5 rows × 28 columns</p>\n",
       "</div>"
      ],
      "text/plain": [
       "    Age  GPA  Gender_F  Gender_M  Gender_X  Qualification_type_1  \\\n",
       "id                                                                 \n",
       "1    29  3.7         0         1         0                     0   \n",
       "2    59  1.0         0         1         0                     0   \n",
       "3    56  4.0         0         1         0                     1   \n",
       "4    51  3.0         0         1         0                     0   \n",
       "5    46  1.0         0         1         0                     1   \n",
       "\n",
       "    Qualification_type_2  Qualification_type_3  Qualification_type_4  \\\n",
       "id                                                                     \n",
       "1                      0                     1                     0   \n",
       "2                      1                     0                     0   \n",
       "3                      0                     0                     0   \n",
       "4                      1                     0                     0   \n",
       "5                      0                     0                     0   \n",
       "\n",
       "    Qualification_type_5  ...  Job_Type_Sales  Job_Type_Services  \\\n",
       "id                        ...                                      \n",
       "1                      0  ...               0                  0   \n",
       "2                      0  ...               0                  0   \n",
       "3                      0  ...               0                  0   \n",
       "4                      0  ...               0                  0   \n",
       "5                      0  ...               0                  0   \n",
       "\n",
       "    Job_Type_Support  Job_Type_Training  Race_Asian  Race_Black  Race_Latino  \\\n",
       "id                                                                             \n",
       "1                  0                  0           0           0            0   \n",
       "2                  0                  0           0           0            1   \n",
       "3                  0                  1           0           0            0   \n",
       "4                  0                  0           0           1            0   \n",
       "5                  1                  0           0           0            1   \n",
       "\n",
       "    Race_Other  Race_White  Interviewed  \n",
       "id                                       \n",
       "1            0           1         True  \n",
       "2            0           0        False  \n",
       "3            1           0        False  \n",
       "4            0           0        False  \n",
       "5            0           0         True  \n",
       "\n",
       "[5 rows x 28 columns]"
      ]
     },
     "execution_count": 16,
     "metadata": {},
     "output_type": "execute_result"
    }
   ],
   "source": [
    "df_features.head()"
   ]
  },
  {
   "cell_type": "code",
   "execution_count": 17,
   "metadata": {},
   "outputs": [
    {
     "data": {
      "text/plain": [
       "Age                                    29\n",
       "GPA                                   3.7\n",
       "Gender_F                                0\n",
       "Gender_M                                1\n",
       "Gender_X                                0\n",
       "Qualification_type_1                    0\n",
       "Qualification_type_2                    0\n",
       "Qualification_type_3                    1\n",
       "Qualification_type_4                    0\n",
       "Qualification_type_5                    0\n",
       "Job_Type_Accounting                     0\n",
       "Job_Type_Business Development           0\n",
       "Job_Type_Engineering                    0\n",
       "Job_Type_Human Resources                0\n",
       "Job_Type_Legal                          0\n",
       "Job_Type_Marketing                      1\n",
       "Job_Type_Product Management             0\n",
       "Job_Type_Research and Development       0\n",
       "Job_Type_Sales                          0\n",
       "Job_Type_Services                       0\n",
       "Job_Type_Support                        0\n",
       "Job_Type_Training                       0\n",
       "Race_Asian                              0\n",
       "Race_Black                              0\n",
       "Race_Latino                             0\n",
       "Race_Other                              0\n",
       "Race_White                              1\n",
       "Interviewed                          True\n",
       "Name: 1, dtype: object"
      ]
     },
     "execution_count": 17,
     "metadata": {},
     "output_type": "execute_result"
    }
   ],
   "source": [
    "df_features.iloc[0, :]"
   ]
  },
  {
   "cell_type": "code",
   "execution_count": 18,
   "metadata": {},
   "outputs": [],
   "source": [
    "with open('../../data/features.csv', 'w') as f:\n",
    "    f.write(df_features.to_csv(index=False))"
   ]
  },
  {
   "cell_type": "code",
   "execution_count": 19,
   "metadata": {},
   "outputs": [
    {
     "name": "stdout",
     "output_type": "stream",
     "text": [
      "7001 ../../data/features.csv\r\n"
     ]
    }
   ],
   "source": [
    "!wc -l '../../data/features.csv'"
   ]
  },
  {
   "cell_type": "code",
   "execution_count": 20,
   "metadata": {},
   "outputs": [
    {
     "name": "stdout",
     "output_type": "stream",
     "text": [
      "Age,GPA,Gender_F,Gender_M,Gender_X,Qualification_type_1,Qualification_type_2,Qualification_type_3,Qualification_type_4,Qualification_type_5,Job_Type_Accounting,Job_Type_Business Development,Job_Type_Engineering,Job_Type_Human Resources,Job_Type_Legal,Job_Type_Marketing,Job_Type_Product Management,Job_Type_Research and Development,Job_Type_Sales,Job_Type_Services,Job_Type_Support,Job_Type_Training,Race_Asian,Race_Black,Race_Latino,Race_Other,Race_White,Interviewed\r\n",
      "29,3.7,0,1,0,0,0,1,0,0,0,0,0,0,0,1,0,0,0,0,0,0,0,0,0,0,1,True\r\n"
     ]
    }
   ],
   "source": [
    "!head -2 '../../data/features.csv'"
   ]
  },
  {
   "cell_type": "code",
   "execution_count": null,
   "metadata": {},
   "outputs": [],
   "source": []
  }
 ],
 "metadata": {
  "kernelspec": {
   "display_name": "Python 3",
   "language": "python",
   "name": "python3"
  },
  "language_info": {
   "codemirror_mode": {
    "name": "ipython",
    "version": 3
   },
   "file_extension": ".py",
   "mimetype": "text/x-python",
   "name": "python",
   "nbconvert_exporter": "python",
   "pygments_lexer": "ipython3",
   "version": "3.7.4"
  }
 },
 "nbformat": 4,
 "nbformat_minor": 2
}
